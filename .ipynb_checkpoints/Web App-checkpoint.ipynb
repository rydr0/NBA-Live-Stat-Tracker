{
 "cells": [
  {
   "cell_type": "code",
   "execution_count": 1,
   "id": "72888d1f",
   "metadata": {},
   "outputs": [],
   "source": [
    "import streamlit as st"
   ]
  },
  {
   "cell_type": "code",
   "execution_count": 7,
   "id": "cac8be81",
   "metadata": {},
   "outputs": [],
   "source": [
    "x = st.slider('x')\n",
    "st.write(x, 'squares is', x * x)"
   ]
  },
  {
   "cell_type": "code",
   "execution_count": null,
   "id": "2c9e6c51",
   "metadata": {},
   "outputs": [],
   "source": []
  }
 ],
 "metadata": {
  "kernelspec": {
   "display_name": "Python 3",
   "language": "python",
   "name": "python3"
  },
  "language_info": {
   "codemirror_mode": {
    "name": "ipython",
    "version": 3
   },
   "file_extension": ".py",
   "mimetype": "text/x-python",
   "name": "python",
   "nbconvert_exporter": "python",
   "pygments_lexer": "ipython3",
   "version": "3.8.8"
  }
 },
 "nbformat": 4,
 "nbformat_minor": 5
}
